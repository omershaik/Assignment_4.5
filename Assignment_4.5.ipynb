{
 "cells": [
  {
   "cell_type": "markdown",
   "metadata": {},
   "source": [
    "### A die marked A to E is rolled 50 times. Find the probability of getting a “D” exactly 5 times."
   ]
  },
  {
   "cell_type": "markdown",
   "metadata": {},
   "source": [
    "n = 50 -------> Number of trials\n",
    "\n",
    "k = 5  -------> success attained after 'n' trials\n",
    "\n",
    "n - k = 45\n",
    "\n",
    "Probability of getting a 'D' = S = 1/5\n",
    "\n",
    "Probability of not getting a “D” = 1 - S = 4/5.\n"
   ]
  }
 ],
 "metadata": {
  "kernelspec": {
   "display_name": "Python 3",
   "language": "python",
   "name": "python3"
  },
  "language_info": {
   "codemirror_mode": {
    "name": "ipython",
    "version": 3
   },
   "file_extension": ".py",
   "mimetype": "text/x-python",
   "name": "python",
   "nbconvert_exporter": "python",
   "pygments_lexer": "ipython3",
   "version": "3.6.4"
  }
 },
 "nbformat": 4,
 "nbformat_minor": 2
}
